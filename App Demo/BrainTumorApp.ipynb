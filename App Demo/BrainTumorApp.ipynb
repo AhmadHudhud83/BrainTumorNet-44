{
  "cells": [
    {
      "cell_type": "markdown",
      "source": [
        "## Install Libraries"
      ],
      "metadata": {
        "id": "NPzi5mLzPiud"
      }
    },
    {
      "cell_type": "code",
      "source": [
        "# We need streamlit for the app and pyngrok to create the public URL\n",
        "%%capture\n",
        "!pip install -q streamlit pyngrok opencv-python-headless matplotlib"
      ],
      "metadata": {
        "id": "OoptEMUNPfKN"
      },
      "execution_count": 8,
      "outputs": []
    },
    {
      "cell_type": "markdown",
      "metadata": {
        "id": "LJrYa9EKpBmE"
      },
      "source": [
        "## Import Dependencies"
      ]
    },
    {
      "cell_type": "code",
      "execution_count": 6,
      "metadata": {
        "id": "YQJjOC3upBGt"
      },
      "outputs": [],
      "source": [
        "# Import system libs\n",
        "import os\n",
        "import time\n",
        "import shutil\n",
        "import pathlib\n",
        "import itertools\n",
        "import glob\n",
        "import gdown\n",
        "from pyngrok import ngrok\n",
        "# Import data handling tools\n",
        "import zipfile\n",
        "\n"
      ]
    },
    {
      "cell_type": "markdown",
      "metadata": {
        "id": "KmQZWC_wrLPY"
      },
      "source": [
        "## Mount Dataset from GDrive"
      ]
    },
    {
      "cell_type": "code",
      "execution_count": 2,
      "metadata": {
        "colab": {
          "base_uri": "https://localhost:8080/",
          "height": 146
        },
        "id": "yMdwi-g7rPQY",
        "outputId": "ac856a45-ebc9-4094-f9df-c980612686c1"
      },
      "outputs": [
        {
          "output_type": "stream",
          "name": "stderr",
          "text": [
            "Downloading...\n",
            "From (original): https://drive.google.com/uc?id=1E1MJz86go08H9rtRCOY2A84rldCXkbww\n",
            "From (redirected): https://drive.google.com/uc?id=1E1MJz86go08H9rtRCOY2A84rldCXkbww&confirm=t&uuid=d9903b09-c5a6-4426-8eab-e9fd20c0bbcf\n",
            "To: /content/brain-tumor-ds.zip\n",
            "100%|██████████| 197M/197M [00:00<00:00, 202MB/s]\n"
          ]
        },
        {
          "output_type": "execute_result",
          "data": {
            "text/plain": [
              "'brain-tumor-ds.zip'"
            ],
            "application/vnd.google.colaboratory.intrinsic+json": {
              "type": "string"
            }
          },
          "metadata": {},
          "execution_count": 2
        }
      ],
      "source": [
        "file_id = '1E1MJz86go08H9rtRCOY2A84rldCXkbww'\n",
        "url = f'https://drive.google.com/uc?id={file_id}'\n",
        "\n",
        "# Download the file\n",
        "gdown.download(url, 'brain-tumor-ds.zip', quiet=False)\n"
      ]
    },
    {
      "cell_type": "markdown",
      "metadata": {
        "id": "RQjemylK7ESE"
      },
      "source": [
        "## Extract ZIP Dataset"
      ]
    },
    {
      "cell_type": "code",
      "execution_count": 3,
      "metadata": {
        "id": "Ii2zXbYnrVXn"
      },
      "outputs": [],
      "source": [
        "def extract_dataset():\n",
        "  # Path to the zip file in Google Drive\n",
        "  zip_path = 'brain-tumor-ds.zip'\n",
        "\n",
        "  # Path to extract the dataset inside Colab environment\n",
        "  extract_path = 'brain-tumor-dataset'\n",
        "\n",
        "  # Unzip the dataset only if not already extracted\n",
        "  if not os.path.exists(extract_path):\n",
        "      with zipfile.ZipFile(zip_path, 'r') as zip_ref:\n",
        "          zip_ref.extractall(extract_path)\n",
        "      print(\"Dataset extracted.\")\n",
        "  else:\n",
        "      print(\"Dataset already extracted.\")\n",
        "\n",
        "  return None\n",
        "extract_dataset()"
      ]
    },
    {
      "cell_type": "markdown",
      "metadata": {
        "id": "i5y_VoJcUCdB"
      },
      "source": [
        "## Streamlit UI"
      ]
    },
    {
      "cell_type": "code",
      "source": [
        "# Authenticate ngrok with your token\n",
        "authtoken = \"2yYF8HXgtYIYfaLhY8bzV6bfXas_3mqsFnx6QNpQgCp1mq8Eg\"\n",
        "ngrok.set_auth_token(authtoken)\n",
        "\n",
        "# Run the streamlit app in the background\n",
        "# The 'nohup' and '&' are used to run the process in the background\n",
        "!nohup streamlit run app.py &\n",
        "\n",
        "# Create a public URL to the streamlit app\n",
        "# Streamlit runs on port 8501 by default\n",
        "public_url = ngrok.connect(8501)\n",
        "print(\"=\"*50)\n",
        "print(\"Your app is live!\")\n",
        "print(f\"🔗 Public URL: {public_url}\")\n",
        "print(\"=\"*50)"
      ],
      "metadata": {
        "colab": {
          "base_uri": "https://localhost:8080/"
        },
        "id": "xQ_iA_exOXuE",
        "outputId": "fc86ec95-8b79-407e-8f82-c95ac4ad9d9e"
      },
      "execution_count": 10,
      "outputs": [
        {
          "output_type": "stream",
          "name": "stdout",
          "text": [
            "nohup: appending output to 'nohup.out'\n",
            "==================================================\n",
            "✅ Your app is live!\n",
            "🔗 Public URL: NgrokTunnel: \"https://b174-34-124-182-212.ngrok-free.app\" -> \"http://localhost:8501\"\n",
            "==================================================\n"
          ]
        }
      ]
    }
  ],
  "metadata": {
    "accelerator": "GPU",
    "colab": {
      "gpuType": "T4",
      "provenance": []
    },
    "kernelspec": {
      "display_name": "Python 3",
      "name": "python3"
    }
  },
  "nbformat": 4,
  "nbformat_minor": 0
}